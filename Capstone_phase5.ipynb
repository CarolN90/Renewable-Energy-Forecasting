{
 "cells": [
  {
   "cell_type": "markdown",
   "id": "0c674055",
   "metadata": {},
   "source": [
    "# **Towards a Resilient Grid: Strategies for Variable Renewable Energy in Kenya**\n",
    "##### *Data-Driven Solutions for a Reliable and Green Energy Future.*"
   ]
  },
  {
   "cell_type": "markdown",
   "id": "839a8ab1",
   "metadata": {},
   "source": [
    "Group Members:\n",
    "1. Naomi Ngigi\n",
    "2. Elvis Kiprono\n",
    "4. Janine Makorre\n",
    "5. Trevor Maina\n",
    "6. Caroline Wachira\n",
    "\n",
    "DSF 12 FT Remote \n",
    "\n",
    "July - August 2025"
   ]
  },
  {
   "cell_type": "markdown",
   "id": "5d394382",
   "metadata": {},
   "source": [
    "## Introduction\n",
    "\n",
    "Kenya is on an ambitious path to achieve universal access to affordable, reliable, and modern energy while transitioning to a low-carbon economy. As outlined in the Kenya National Energy Policy (2025 draft), the National Energy Efficiency and Conservation Strategy (2020), and the 100% Renewable Energy Plan by 2050, the country is investing heavily in clean energy technologies such as geothermal, wind, and solar. Today, more than 80% of Kenya’s electricity already comes from renewable sources—making it one of the global leaders in sustainable power generation.\n",
    "\n",
    "However, this transition faces challenges, including balancing variable renewable energy sources, ensuring grid stability, and meeting the growing energy demand driven by industrialization and population growth. Forecasting energy demand and optimizing renewable integration are critical to preventing outages, reducing reliance on thermal energy, and supporting sustainable economic development.\n",
    "\n",
    "Our capstone project, “Towards a Resilient Grid: Strategies for Variable Renewable Energy in Kenya,” builds on this vision by developing real-time energy demand forecasting and grid optimization tools. By leveraging historical energy generation and consumption data, our solution will help Kenya maximize renewable energy utilization, enhance energy reliability, and guide infrastructure investments."
   ]
  },
  {
   "cell_type": "markdown",
   "id": "64e0fc44",
   "metadata": {},
   "source": [
    "## Problem Statement \n",
    "\n",
    "Kenya’s power grid is expanding rapidly, yet it continues to face persistent challenges in balancing rising electricity demand with the variable output of renewable energy sources such as solar, wind, and hydro. Despite the country’s abundant clean energy potential, transmission and distribution networks remain constrained, resulting in frequent outages, underutilization of renewable capacity, and increased dependence on costly thermal power during peak demand periods.\n",
    "\n",
    "This imbalance drives up system costs, reduces reliability, and undermines efforts to achieve affordable, sustainable, and inclusive electricity access. As energy demand accelerates and climate commitments intensify, there is an urgent need for accurate short- and medium-term demand forecasting, smarter renewable integration, and data-driven grid planning to prioritize upgrades where they will deliver the most impact.\n",
    "\n",
    "Without these innovations, even high renewable penetration will not translate into a resilient, efficient, or equitable power system. The strategic deployment of intelligent forecasting and optimization tools can unlock Kenya’s clean energy potential—ensuring stability, affordability, and scalability for both urban and rural communities."
   ]
  },
  {
   "cell_type": "markdown",
   "id": "74a8eeaa",
   "metadata": {},
   "source": [
    "## Objectives\n",
    "\n",
    "1. How can we accurately forecast electricity demand?\n",
    "2. How to optimize the share of variable renewables in the grid?\n",
    "3. Which infrastructure investments reduce grid bottlenecks?\n"
   ]
  },
  {
   "cell_type": "markdown",
   "id": "fc990dfd",
   "metadata": {},
   "source": [
    "## Key Stakeholders\n",
    "\n",
    "+ Kenya Power: Cuts outages and costly backups.                                                    \n",
    "+ Energy & Petroleum Regulatory Authority (EPRA): Enables smarter, data-driven regulation\n",
    "+ Ministry of Energy: Guides strategic energy investments.\n",
    "+ Renewable developers (solar farms, wind IPPs): Reduces curtailment, boosts project value.\n",
    "+ Industrial & commercial users: Ensures reliable, predictable power.\n",
    "+ Policy makers, donors, investors: Directs funding where impact is highest."
   ]
  },
  {
   "cell_type": "markdown",
   "id": "105fbf57",
   "metadata": {},
   "source": [
    "## Description of dataset\n",
    "\n",
    "All data used in this analysis is sourced from the Energy and Petroleum Regulatory Authority (EPRA), Kenya’s independent energy regulator. EPRA collects, verifies, and publishes official statistics on electricity generation, sales, customer connections, and grid infrastructure. These datasets provide a reliable foundation for demand forecasting, renewable integration, and grid optimization—supporting Kenya’s clean energy transition.\n",
    "\n",
    "### Dataset Summary (2019 – April 2025)\n",
    "\n",
    "We utilize five core EPRA datasets that provide a multi-dimensional view of Kenya’s power system:\n",
    "\n",
    "### 1. Electricity Generation by Technology\n",
    "- **Time Range:** Jan 2019 – Apr 2025 (Monthly)  \n",
    "- **Features:** Energy generation (GWh) by source – Hydro, Thermal, Wind, Geothermal, Bagasse/Biogas, Imports, Solar, Total.\n",
    "\n",
    "### 2. Installed Renewable Capacity\n",
    "- **Reference Year:** 2024  \n",
    "- **Features:** Installed capacity (MW) by technology – Hydro, Geothermal, Wind, Biomass, Solar.\n",
    "\n",
    "### 3. Transmission & Distribution Infrastructure\n",
    "- **Time Range:** FY 2019/20 – Apr 2025  \n",
    "- **Features:** Circuit length (km) by voltage – HV (500kV to 66kV), MV (33kV, 11kV), LV (415/240V).\n",
    "\n",
    "### 4. Grid Connectivity\n",
    "- **Time Range:** Jul 2019 – Apr 2025 (Monthly)  \n",
    "- **Features:** New customer connections and cumulative totals.\n",
    "\n",
    "### 5. Electricity Consumption\n",
    "- **Time Range:** Jul 2019 – Apr 2025 (Monthly)  \n",
    "- **Features:** Electricity sales to end-users (GWh)."
   ]
  },
  {
   "cell_type": "markdown",
   "id": "1bcfb194",
   "metadata": {},
   "source": [
    "## Project Approach\n",
    "\n",
    "1. **Data Collection & Validation**  \n",
    "   - Load and inspect EPRA datasets (2019–Apr 2025) on generation, consumption, capacity, grid infrastructure, and connectivity.  \n",
    "   - Clean, standardize units (GWh/MW), handle missing values, and validate data integrity.\n",
    "\n",
    "2. **Exploratory Data Analysis (EDA)**  \n",
    "   - Visualize trends in demand vs. generation (line charts, stacked area plots).  \n",
    "   - Analyze seasonal peaks and renewable contributions over time.  \n",
    "   - Correlate connectivity and infrastructure expansion with consumption patterns.\n",
    "\n",
    "3. **Feature Engineering**  \n",
    "   - Create time-based features (month, quarter, year).  \n",
    "   - Generate derived metrics: renewable share %, demand-growth rates, grid expansion indicators.\n",
    "\n",
    "4. **Modeling & Forecasting**  \n",
    "   - Apply time series models (ARIMA, Prophet, LSTM) for short- and medium-term demand forecasting.  \n",
    "   - Evaluate models using MAE, RMSE, and MAPE.  \n",
    "   - Use regression for outage risk scoring or grid stress indicators.\n",
    "\n",
    "5. **Visualization & Insights**  \n",
    "   - Build interactive dashboards (Tableau/Power BI) to visualize demand trends, forecasts, and renewable utilization scenarios.\n",
    "\n",
    "6. **Deployment (MVP)**  \n",
    "   - Package models into a FastAPI endpoint for real-time forecasting.  \n",
    "   - Enable energy planners and developers to query future demand and optimize renewable integration."
   ]
  }
 ],
 "metadata": {
  "language_info": {
   "name": "python"
  }
 },
 "nbformat": 4,
 "nbformat_minor": 5
}

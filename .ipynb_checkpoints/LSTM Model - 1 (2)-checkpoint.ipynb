{
 "cells": [
  {
   "cell_type": "code",
   "execution_count": 1,
   "id": "f834b9e9-ab8e-47d6-833e-29953c72d708",
   "metadata": {},
   "outputs": [
    {
     "name": "stderr",
     "output_type": "stream",
     "text": [
      "C:\\Users\\HP PROBOOK\\anaconda3\\envs\\learn-env\\lib\\site-packages\\requests\\__init__.py:89: RequestsDependencyWarning: urllib3 (2.2.3) or chardet (3.0.4) doesn't match a supported version!\n",
      "  warnings.warn(\"urllib3 ({}) or chardet ({}) doesn't match a supported \"\n"
     ]
    }
   ],
   "source": [
    "import pandas as pd\n",
    "import numpy as np\n",
    "from sklearn.preprocessing import MinMaxScaler\n",
    "from sklearn.model_selection import train_test_split\n",
    "from tensorflow.keras.models import Sequential\n",
    "from tensorflow.keras.layers import LSTM, Dense\n",
    "from sklearn.metrics import mean_absolute_error, mean_squared_error\n",
    "import matplotlib.pyplot as plt"
   ]
  },
  {
   "cell_type": "code",
   "execution_count": 2,
   "id": "7dd9adba-351b-4957-a398-e4d07c743d20",
   "metadata": {},
   "outputs": [],
   "source": [
    "df = pd.read_csv('model_merged.csv')"
   ]
  },
  {
   "cell_type": "code",
   "execution_count": 3,
   "id": "cb5589b4-51e6-441e-89f8-2985ae0ec12e",
   "metadata": {},
   "outputs": [],
   "source": [
    "start_date = pd.to_datetime('2019-07-01')"
   ]
  },
  {
   "cell_type": "code",
   "execution_count": 4,
   "id": "4b0ceb4c-8590-4585-9d01-c1c1b04e5a59",
   "metadata": {},
   "outputs": [],
   "source": [
    "# Define features\n",
    "target_col = 'electricity_consumption_GWh'\n",
    "features = [\n",
    "    'HYDRO', 'WIND', 'SOLAR', 'Thermal', 'Cummulative_Connections',\n",
    "    'lag_1', 'lag_2', 'lag_3', 'rolling_mean_3', 'rolling_mean_6',\n",
    "    'month', 'quarter', 'month_sin', 'month_cos',\n",
    "    target_col\n",
    "]"
   ]
  },
  {
   "cell_type": "code",
   "execution_count": 6,
   "id": "d2aa91f9-23e6-4cee-96ae-94ffe50b9ddc",
   "metadata": {},
   "outputs": [],
   "source": [
    "# Handle NaNs (by bfill)\n",
    "df_processed = df.copy()\n",
    "nan_columns = ['lag_1', 'lag_2', 'lag_3', 'rolling_mean_3', 'rolling_mean_6']\n",
    "for col in nan_columns:\n",
    "    df_processed[col] = df_processed[col].bfill()"
   ]
  },
  {
   "cell_type": "code",
   "execution_count": 7,
   "id": "f5f34120-e291-46bf-97eb-52697e963115",
   "metadata": {},
   "outputs": [],
   "source": [
    "selected_features = [target_col, 'HYDRO', 'WIND', 'SOLAR', 'Thermal',\n",
    "                     'Cummulative_Connections', 'lag_1', 'lag_2', 'lag_3',\n",
    "                     'rolling_mean_3', 'rolling_mean_6', 'month', 'quarter',\n",
    "                     'month_sin', 'month_cos']\n",
    "\n",
    "data_for_lstm = df_processed[selected_features].values"
   ]
  },
  {
   "cell_type": "code",
   "execution_count": 8,
   "id": "08e1a679-d8fe-4ad1-8c1d-ee39b44ac1f8",
   "metadata": {},
   "outputs": [],
   "source": [
    "scaler = MinMaxScaler(feature_range=(0, 1))\n",
    "scaled_data = scaler.fit_transform(data_for_lstm)"
   ]
  },
  {
   "cell_type": "code",
   "execution_count": 9,
   "id": "cf23df98-f58a-4f47-8886-e9edcb12c500",
   "metadata": {},
   "outputs": [
    {
     "name": "stdout",
     "output_type": "stream",
     "text": [
      "\n",
      "Shape of X (input sequences): (58, 12, 15)\n",
      "Shape of y (output targets): (58, 1)\n"
     ]
    }
   ],
   "source": [
    "# --- 3. Creating Sequences for LSTM ---\n",
    "\n",
    "def create_sequences(data, look_back, forecast_horizon, target_idx):\n",
    "    X, y = [], []\n",
    "    for i in range(len(data) - look_back - forecast_horizon + 1):\n",
    "        # Input sequence (X)\n",
    "        X.append(data[i:(i + look_back), :]) # All features in the look-back window\n",
    "\n",
    "        # Target sequence (y)\n",
    "        # Predict the next 'forecast_horizon' values of the target variable\n",
    "        y.append(data[(i + look_back):(i + look_back + forecast_horizon), target_idx])\n",
    "    return np.array(X), np.array(y)\n",
    "\n",
    "look_back = 12\n",
    "forecast_horizon = 1\n",
    "# Find the index of the target column in the scaled_data array\n",
    "target_idx_in_scaled_data = selected_features.index(target_col)\n",
    "\n",
    "X, y = create_sequences(scaled_data, look_back, forecast_horizon, target_idx_in_scaled_data)\n",
    "\n",
    "print(f\"\\nShape of X (input sequences): {X.shape}\")\n",
    "print(f\"Shape of y (output targets): {y.shape}\")"
   ]
  },
  {
   "cell_type": "code",
   "execution_count": 10,
   "id": "8abc784e-2429-4db2-b473-7085657ef4af",
   "metadata": {},
   "outputs": [
    {
     "name": "stdout",
     "output_type": "stream",
     "text": [
      "X_train shape: (46, 12, 15), y_train shape: (46, 1)\n",
      "X_test shape: (12, 12, 15), y_test shape: (12, 1)\n"
     ]
    }
   ],
   "source": [
    "# --- 4. Split Data into Training and Test Sets ---\n",
    "split_ratio = 0.8\n",
    "split_idx = int(len(X) * split_ratio)\n",
    "\n",
    "X_train, X_test = X[:split_idx], X[split_idx:]\n",
    "y_train, y_test = y[:split_idx], y[split_idx:]\n",
    "\n",
    "print(f\"X_train shape: {X_train.shape}, y_train shape: {y_train.shape}\")\n",
    "print(f\"X_test shape: {X_test.shape}, y_test shape: {y_test.shape}\")"
   ]
  },
  {
   "cell_type": "code",
   "execution_count": 11,
   "id": "890b09b4-25d4-4a6d-8f3d-a3e9b0b0319d",
   "metadata": {},
   "outputs": [
    {
     "name": "stdout",
     "output_type": "stream",
     "text": [
      "\n",
      "LSTM Model Summary:\n",
      "Model: \"sequential\"\n",
      "_________________________________________________________________\n",
      "Layer (type)                 Output Shape              Param #   \n",
      "=================================================================\n",
      "lstm (LSTM)                  (None, 50)                13200     \n",
      "_________________________________________________________________\n",
      "dense (Dense)                (None, 1)                 51        \n",
      "=================================================================\n",
      "Total params: 13,251\n",
      "Trainable params: 13,251\n",
      "Non-trainable params: 0\n",
      "_________________________________________________________________\n"
     ]
    }
   ],
   "source": [
    "# --- 5. Build the LSTM Model ---\n",
    "model = Sequential()\n",
    "model.add(LSTM(units=50, activation='relu', input_shape=(look_back, X_train.shape[2])))\n",
    "model.add(Dense(units=forecast_horizon)) \n",
    "\n",
    "model.compile(optimizer='adam', loss='mse') \n",
    "\n",
    "print(\"\\nLSTM Model Summary:\")\n",
    "model.summary()\n"
   ]
  },
  {
   "cell_type": "code",
   "execution_count": 12,
   "id": "cb556fdc-7fa1-4d3d-8555-667f9773cbcc",
   "metadata": {},
   "outputs": [
    {
     "name": "stdout",
     "output_type": "stream",
     "text": [
      "LSTM model training complete.\n"
     ]
    }
   ],
   "source": [
    "# ---Training the LSTM Model---\n",
    "from tensorflow.keras.optimizers import Adam\n",
    "model.compile(optimizer=Adam(learning_rate=0.001), loss='mse')\n",
    "history = model.fit(X_train, y_train, epochs=500, batch_size=64, verbose=0, validation_split=0.1)\n",
    "print(\"LSTM model training complete.\")"
   ]
  },
  {
   "cell_type": "code",
   "execution_count": 13,
   "id": "99a0941c-eb47-4890-8e16-d89a5a772bcc",
   "metadata": {},
   "outputs": [],
   "source": [
    "# ---Making Predictions ---\n",
    "y_pred_scaled = model.predict(X_test)\n",
    "\n",
    "# Inverse transforming predictions to original scale\n",
    "# Creating a dummy array with the same shape as scaled_data\n",
    "dummy_pred_array = np.zeros((len(y_pred_scaled), scaled_data.shape[1]))\n",
    "dummy_pred_array[:, target_idx_in_scaled_data] = y_pred_scaled.flatten() # Flatten if forecast_horizon > 1\n",
    "y_pred = scaler.inverse_transform(dummy_pred_array)[:, target_idx_in_scaled_data]\n",
    "\n",
    "# Inverse transforming actual test values to original scale\n",
    "dummy_test_array = np.zeros((len(y_test), scaled_data.shape[1]))\n",
    "dummy_test_array[:, target_idx_in_scaled_data] = y_test.flatten()\n",
    "y_true = scaler.inverse_transform(dummy_test_array)[:, target_idx_in_scaled_data]"
   ]
  },
  {
   "cell_type": "code",
   "execution_count": 14,
   "id": "fd1a8d98-5e50-4770-94ba-a1414626989a",
   "metadata": {},
   "outputs": [
    {
     "name": "stdout",
     "output_type": "stream",
     "text": [
      "\n",
      "Mean Absolute Error (MAE) on test set: 50.46\n",
      "Root Mean Squared Error (RMSE) on test set: 61.77\n"
     ]
    }
   ],
   "source": [
    "# ---Evaluate the Model---\n",
    "mae = mean_absolute_error(y_true, y_pred)\n",
    "rmse = np.sqrt(mean_squared_error(y_true, y_pred))\n",
    "\n",
    "print(f\"\\nMean Absolute Error (MAE) on test set: {mae:.2f}\")\n",
    "print(f\"Root Mean Squared Error (RMSE) on test set: {rmse:.2f}\")"
   ]
  },
  {
   "cell_type": "code",
   "execution_count": 17,
   "id": "dbb3860a-3108-4cf7-8eb9-10b2bcd99411",
   "metadata": {},
   "outputs": [
    {
     "name": "stdout",
     "output_type": "stream",
     "text": [
      "\n",
      "Forecast plot saved as 'lstm_forecast.png'\n"
     ]
    },
    {
     "data": {
      "image/png": "[encoded data removed]",
      "text/plain": [
       "<Figure size 1008x504 with 1 Axes>"
      ]
     },
     "metadata": {
      "needs_background": "light"
     },
     "output_type": "display_data"
    }
   ],
   "source": [
    "# ---Visualizing Results---\n",
    "original_dates = df['ds'] = pd.to_datetime([start_date + pd.DateOffset(months=i) for i in range(len(df))])\n",
    "test_dates = original_dates[len(df) - len(y_test):] # Adjust to correctly align with y_test\n",
    "\n",
    "plt.figure(figsize=(14, 7))\n",
    "plt.plot(original_dates, df[target_col], label='Original Data (All)')\n",
    "plt.plot(test_dates, y_true, label='Actuals (Test Data)', color='orange', linewidth=2)\n",
    "plt.plot(test_dates, y_pred, label='LSTM Forecast', color='green', linestyle='--', linewidth=2)\n",
    "plt.title('Electricity Consumption Forecasting with LSTM')\n",
    "plt.xlabel('Date')\n",
    "plt.ylabel('Electricity Consumption (GWh)')\n",
    "plt.legend()\n",
    "plt.grid(True)\n",
    "plt.tight_layout()\n",
    "plt.savefig('lstm_forecast.png')\n",
    "print(\"\\nForecast plot saved as 'lstm_forecast.png'\")"
   ]
  },
  {
   "cell_type": "code",
   "execution_count": 18,
   "id": "c129892c-5a62-4e5a-94fa-6a68c37fb075",
   "metadata": {},
   "outputs": [
    {
     "data": {
      "text/plain": [
       "50.462193116173275"
      ]
     },
     "execution_count": 18,
     "metadata": {},
     "output_type": "execute_result"
    }
   ],
   "source": [
    "mae = mean_absolute_error(y_true, y_pred)\n",
    "mae"
   ]
  },
  {
   "cell_type": "code",
   "execution_count": 19,
   "id": "d8254a3e-5c09-4b84-a182-3959f8e70ada",
   "metadata": {},
   "outputs": [
    {
     "name": "stdout",
     "output_type": "stream",
     "text": [
      "\n",
      "Comparison of Actual vs. Predicted Electricity Consumption:\n",
      "         Date  Actual_Consumption_GWh  Predicted_Consumption_GWh\n",
      "0  2024-05-01              896.315593                 878.894733\n",
      "1  2024-06-01              881.012921                 930.195933\n",
      "2  2024-07-01              905.468379                 938.403545\n",
      "3  2024-08-01              925.874874                 906.476289\n",
      "4  2024-09-01              909.107184                 939.528630\n",
      "5  2024-10-01              937.641373                 901.141696\n",
      "6  2024-11-01              940.908189                 921.044204\n",
      "7  2024-12-01              886.000000                 928.458230\n",
      "8  2025-01-01              957.000000                1082.746597\n",
      "9  2025-02-01              916.000000                 950.884255\n",
      "10 2025-03-01              943.000000                1021.841036\n",
      "11 2025-04-01              943.000000                1060.893467\n"
     ]
    }
   ],
   "source": [
    "import pandas as pd\n",
    "import numpy as np\n",
    "\n",
    "comparison_df = pd.DataFrame({\n",
    "    'Date': test_dates,\n",
    "    'Actual_Consumption_GWh': y_true,\n",
    "    'Predicted_Consumption_GWh': y_pred\n",
    "})\n",
    "\n",
    "print(\"\\nComparison of Actual vs. Predicted Electricity Consumption:\")\n",
    "print(comparison_df.tail(20))"
   ]
  },
  {
   "cell_type": "code",
   "execution_count": 22,
   "id": "c426a8cd",
   "metadata": {},
   "outputs": [],
   "source": [
    "model.save('epra_lstm_model.h5')"
   ]
  },
  {
   "cell_type": "code",
   "execution_count": null,
   "id": "abe5c8f6",
   "metadata": {},
   "outputs": [],
   "source": []
  }
 ],
 "metadata": {
  "kernelspec": {
   "display_name": "Python 3",
   "language": "python",
   "name": "python3"
  },
  "language_info": {
   "codemirror_mode": {
    "name": "ipython",
    "version": 3
   },
   "file_extension": ".py",
   "mimetype": "text/x-python",
   "name": "python",
   "nbconvert_exporter": "python",
   "pygments_lexer": "ipython3",
   "version": "3.8.5"
  }
 },
 "nbformat": 4,
 "nbformat_minor": 5
}
